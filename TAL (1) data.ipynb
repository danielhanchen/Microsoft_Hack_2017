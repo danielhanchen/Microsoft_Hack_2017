{
 "cells": [
  {
   "cell_type": "code",
   "execution_count": 1,
   "metadata": {
    "collapsed": false,
    "deletable": true,
    "editable": true
   },
   "outputs": [],
   "source": [
    "% matplotlib inline\n",
    "# from keras.models import Sequential\n",
    "# from keras.layers import Dense, Dropout\n",
    "# from keras.constraints import maxnorm\n",
    "# from keras.models import load_model\n",
    "import numpy as np\n",
    "import matplotlib.pyplot as plt\n",
    "import pandas as pd\n",
    "from sklearn.ensemble import RandomForestClassifier as rfc\n",
    "\n",
    "np.random.seed(1)\n",
    "import sklearn as sk"
   ]
  },
  {
   "cell_type": "code",
   "execution_count": 2,
   "metadata": {
    "collapsed": false,
    "deletable": true,
    "editable": true
   },
   "outputs": [],
   "source": [
    "import xgboost"
   ]
  },
  {
   "cell_type": "code",
   "execution_count": 3,
   "metadata": {
    "collapsed": false,
    "deletable": true,
    "editable": true
   },
   "outputs": [],
   "source": [
    "from sklearn.ensemble import ExtraTreesClassifier as etc"
   ]
  },
  {
   "cell_type": "code",
   "execution_count": 4,
   "metadata": {
    "collapsed": true,
    "deletable": true,
    "editable": true
   },
   "outputs": [],
   "source": [
    "x = pd.read_csv(\"tal.csv\")"
   ]
  },
  {
   "cell_type": "code",
   "execution_count": 5,
   "metadata": {
    "collapsed": false,
    "deletable": true,
    "editable": true
   },
   "outputs": [
    {
     "data": {
      "text/plain": [
       "66"
      ]
     },
     "execution_count": 5,
     "metadata": {},
     "output_type": "execute_result"
    }
   ],
   "source": [
    "len(x.columns)"
   ]
  },
  {
   "cell_type": "code",
   "execution_count": 6,
   "metadata": {
    "collapsed": false,
    "deletable": true,
    "editable": true
   },
   "outputs": [
    {
     "data": {
      "text/plain": [
       "188"
      ]
     },
     "execution_count": 6,
     "metadata": {},
     "output_type": "execute_result"
    }
   ],
   "source": [
    "len(x)"
   ]
  },
  {
   "cell_type": "code",
   "execution_count": 7,
   "metadata": {
    "collapsed": false,
    "deletable": true,
    "editable": true
   },
   "outputs": [
    {
     "data": {
      "text/plain": [
       "Index(['Requirement Cnt', 'Exclusion Cnt', 'Age', 'Bmi', 'Tobacco Qty',\n",
       "       'Smokedanothersubstance', 'Smokedcigarsorpipe', 'Smokerstatus',\n",
       "       'Iponcontract', 'Abooncontract', 'Businessinsuranceoption',\n",
       "       'Disabilityplusoption', 'Retirementprotectionoption', 'Alcohol Status',\n",
       "       'Occupationhazardousduties', 'Replacingexistingpolicyother',\n",
       "       'Replacingexistingpolicy', 'Smokedcigarettes', 'Incomereduction',\n",
       "       'Handoverteleuw', 'Hasvolatileincome', 'Childcioncontract',\n",
       "       'Bexoncontract', 'Totalassetsamount', 'Totalliabilitiesamount',\n",
       "       'Assetslessliabilitiesamount', 'Assetsandliabilitiesskipped',\n",
       "       'Handedoverti', 'Uwstatus Id', 'Smokedinlast12Months',\n",
       "       'Morethan25Drinksweekly', 'Industrycode', 'Lifeoncontract',\n",
       "       'Cioncontract', 'Tpdoncontract', 'LIFE KEY ANON (underwriting.csv)'],\n",
       "      dtype='object')"
      ]
     },
     "execution_count": 7,
     "metadata": {},
     "output_type": "execute_result"
    }
   ],
   "source": [
    "x.describe().columns"
   ]
  },
  {
   "cell_type": "code",
   "execution_count": 8,
   "metadata": {
    "collapsed": false,
    "deletable": true,
    "editable": true
   },
   "outputs": [
    {
     "data": {
      "text/plain": [
       "Index(['Claimant Sex', 'Occupation', 'Claim Type', 'Claim SubType',\n",
       "       'Claim Status', 'Claim SubStatus', 'Cause Code', 'Cause Category',\n",
       "       'Nature Of Claim', 'Primary Cause', 'Date Liability', 'Date Notified',\n",
       "       'Date Received', 'Date Incident', 'Sum Insured', 'Suicide Indicator',\n",
       "       'Life Key Anon', 'Dob Anon', 'Policy Key Anon',\n",
       "       'Commencement Date Anon', 'Annualincome', 'Occupationname',\n",
       "       'Maritalstatus', 'Purposeofcover', 'Currentannualincome',\n",
       "       'Incomeearningcode', 'Gender Text', 'DOB ANON (underwriting.csv)',\n",
       "       'POLICY KEY ANON (underwriting.csv)',\n",
       "       'COMMENCEMENT DATE ANON (underwriting.csv)'],\n",
       "      dtype='object')"
      ]
     },
     "execution_count": 8,
     "metadata": {},
     "output_type": "execute_result"
    }
   ],
   "source": [
    "x.describe(include=['O']).columns"
   ]
  },
  {
   "cell_type": "code",
   "execution_count": 9,
   "metadata": {
    "collapsed": false,
    "deletable": true,
    "editable": true
   },
   "outputs": [
    {
     "data": {
      "text/plain": [
       "0      Female\n",
       "1      Female\n",
       "2        Male\n",
       "3        Male\n",
       "4        Male\n",
       "5        Male\n",
       "6        Male\n",
       "7        Male\n",
       "8        Male\n",
       "9        Male\n",
       "10       Male\n",
       "11       Male\n",
       "12       Male\n",
       "13       Male\n",
       "14       Male\n",
       "15       Male\n",
       "16       Male\n",
       "17       Male\n",
       "18       Male\n",
       "19       Male\n",
       "20       Male\n",
       "21       Male\n",
       "22       Male\n",
       "23       Male\n",
       "24       Male\n",
       "25       Male\n",
       "26       Male\n",
       "27       Male\n",
       "28       Male\n",
       "29       Male\n",
       "        ...  \n",
       "158    Female\n",
       "159      Male\n",
       "160      Male\n",
       "161      Male\n",
       "162      Male\n",
       "163      Male\n",
       "164      Male\n",
       "165      Male\n",
       "166      Male\n",
       "167      Male\n",
       "168      Male\n",
       "169      Male\n",
       "170    Female\n",
       "171    Female\n",
       "172    Female\n",
       "173    Female\n",
       "174    Female\n",
       "175    Female\n",
       "176    Female\n",
       "177    Female\n",
       "178    Female\n",
       "179    Female\n",
       "180    Female\n",
       "181    Female\n",
       "182    Female\n",
       "183    Female\n",
       "184    Female\n",
       "185      Male\n",
       "186      Male\n",
       "187      Male\n",
       "Name: Gender Text, dtype: object"
      ]
     },
     "execution_count": 9,
     "metadata": {},
     "output_type": "execute_result"
    }
   ],
   "source": [
    "x.pop('Date Liability')\n",
    "x.pop('Date Notified')\n",
    "x.pop('Date Received')\n",
    "x.pop('Date Incident')\n",
    "x.pop('Gender Text')"
   ]
  },
  {
   "cell_type": "code",
   "execution_count": 10,
   "metadata": {
    "collapsed": false,
    "deletable": true,
    "editable": true
   },
   "outputs": [
    {
     "data": {
      "text/plain": [
       "0       1/06/2011\n",
       "1       1/06/2011\n",
       "2      13/06/2011\n",
       "3      13/06/2011\n",
       "4      13/06/2011\n",
       "5      13/12/2011\n",
       "6       9/06/1999\n",
       "7       9/06/1999\n",
       "8      11/04/2001\n",
       "9      11/04/2001\n",
       "10     11/04/2001\n",
       "11     23/12/2011\n",
       "12     23/12/2011\n",
       "13     23/12/2011\n",
       "14     22/11/2011\n",
       "15     10/12/2011\n",
       "16     10/12/2011\n",
       "17     15/12/2011\n",
       "18     15/12/2011\n",
       "19     15/12/2011\n",
       "20     15/12/2011\n",
       "21     15/12/2011\n",
       "22     15/12/2011\n",
       "23     15/12/2011\n",
       "24     14/02/2012\n",
       "25      1/04/2012\n",
       "26      1/04/2012\n",
       "27      1/04/2012\n",
       "28     23/04/2012\n",
       "29      2/06/2012\n",
       "          ...    \n",
       "158    19/02/2014\n",
       "159     3/03/2014\n",
       "160     3/07/2014\n",
       "161     3/07/2014\n",
       "162     3/07/2014\n",
       "163     3/07/2014\n",
       "164     3/07/2014\n",
       "165     3/07/2014\n",
       "166     3/07/2014\n",
       "167     3/07/2014\n",
       "168     3/07/2014\n",
       "169    11/08/2014\n",
       "170    18/09/2014\n",
       "171    18/09/2014\n",
       "172    18/09/2014\n",
       "173    18/09/2014\n",
       "174    18/09/2014\n",
       "175    18/09/2014\n",
       "176    22/12/2014\n",
       "177    22/12/2014\n",
       "178    22/12/2014\n",
       "179    22/12/2014\n",
       "180    22/12/2014\n",
       "181    22/12/2014\n",
       "182    22/12/2014\n",
       "183    22/12/2014\n",
       "184    22/12/2014\n",
       "185    10/02/2015\n",
       "186     9/07/2015\n",
       "187     9/07/2015\n",
       "Name: Commencement Date Anon, dtype: object"
      ]
     },
     "execution_count": 10,
     "metadata": {},
     "output_type": "execute_result"
    }
   ],
   "source": [
    "x.pop('Claim Type')\n",
    "x.pop('Claim SubType')\n",
    "x.pop('Claim Status')\n",
    "x.pop('Claim SubStatus')\n",
    "x.pop('Cause Code')\n",
    "x.pop('Cause Category')\n",
    "x.pop('Nature Of Claim')\n",
    "x.pop('Primary Cause')\n",
    "x.pop('Life Key Anon')\n",
    "x.pop('Policy Key Anon')\n",
    "x.pop('DOB ANON (underwriting.csv)')\n",
    "x.pop('POLICY KEY ANON (underwriting.csv)')\n",
    "x.pop('LIFE KEY ANON (underwriting.csv)')\n",
    "x.pop('Dob Anon')\n",
    "x.pop('COMMENCEMENT DATE ANON (underwriting.csv)')\n",
    "x.pop('Commencement Date Anon')"
   ]
  },
  {
   "cell_type": "code",
   "execution_count": 11,
   "metadata": {
    "collapsed": false,
    "deletable": true,
    "editable": true
   },
   "outputs": [
    {
     "data": {
      "text/plain": [
       "0        603,824\n",
       "1        603,824\n",
       "2        331,329\n",
       "3        314,262\n",
       "4        326,451\n",
       "5      2,300,123\n",
       "6        743,363\n",
       "7        743,363\n",
       "8      1,223,772\n",
       "9      1,223,772\n",
       "10     1,223,772\n",
       "11     1,212,749\n",
       "12     1,212,749\n",
       "13     1,212,749\n",
       "14       344,368\n",
       "15       109,563\n",
       "16       109,563\n",
       "17     1,111,015\n",
       "18     1,111,015\n",
       "19     1,111,015\n",
       "20     1,111,015\n",
       "21     1,111,015\n",
       "22     1,111,015\n",
       "23     1,111,015\n",
       "24     1,102,209\n",
       "25       322,183\n",
       "26       322,183\n",
       "27       322,183\n",
       "28        48,641\n",
       "29        42,337\n",
       "         ...    \n",
       "158      199,674\n",
       "159      546,615\n",
       "160      357,751\n",
       "161      379,596\n",
       "162      359,467\n",
       "163      357,751\n",
       "164      379,596\n",
       "165      359,467\n",
       "166      357,751\n",
       "167      379,596\n",
       "168      359,467\n",
       "169      327,260\n",
       "170      524,733\n",
       "171      501,571\n",
       "172      485,652\n",
       "173      524,733\n",
       "174      501,571\n",
       "175      485,652\n",
       "176      629,695\n",
       "177      660,888\n",
       "178      668,146\n",
       "179      629,695\n",
       "180      660,888\n",
       "181      668,146\n",
       "182      629,695\n",
       "183      660,888\n",
       "184      668,146\n",
       "185    1,031,676\n",
       "186      314,341\n",
       "187      314,341\n",
       "Name: Sum Insured, dtype: object"
      ]
     },
     "execution_count": 11,
     "metadata": {},
     "output_type": "execute_result"
    }
   ],
   "source": [
    "x.pop('Sum Insured')"
   ]
  },
  {
   "cell_type": "code",
   "execution_count": 12,
   "metadata": {
    "collapsed": false,
    "deletable": true,
    "editable": true
   },
   "outputs": [
    {
     "data": {
      "text/html": [
       "<div>\n",
       "<table border=\"1\" class=\"dataframe\">\n",
       "  <thead>\n",
       "    <tr style=\"text-align: right;\">\n",
       "      <th></th>\n",
       "      <th>Claimant Sex</th>\n",
       "      <th>Occupation</th>\n",
       "      <th>Suicide Indicator</th>\n",
       "      <th>Annualincome</th>\n",
       "      <th>Occupationname</th>\n",
       "      <th>Maritalstatus</th>\n",
       "      <th>Purposeofcover</th>\n",
       "      <th>Currentannualincome</th>\n",
       "      <th>Incomeearningcode</th>\n",
       "    </tr>\n",
       "  </thead>\n",
       "  <tbody>\n",
       "    <tr>\n",
       "      <th>count</th>\n",
       "      <td>188</td>\n",
       "      <td>188</td>\n",
       "      <td>188</td>\n",
       "      <td>188</td>\n",
       "      <td>188</td>\n",
       "      <td>188</td>\n",
       "      <td>188</td>\n",
       "      <td>188</td>\n",
       "      <td>188</td>\n",
       "    </tr>\n",
       "    <tr>\n",
       "      <th>unique</th>\n",
       "      <td>2</td>\n",
       "      <td>38</td>\n",
       "      <td>3</td>\n",
       "      <td>38</td>\n",
       "      <td>41</td>\n",
       "      <td>2</td>\n",
       "      <td>4</td>\n",
       "      <td>97</td>\n",
       "      <td>4</td>\n",
       "    </tr>\n",
       "    <tr>\n",
       "      <th>top</th>\n",
       "      <td>Male</td>\n",
       "      <td>Business Consultant</td>\n",
       "      <td>N</td>\n",
       "      <td>0</td>\n",
       "      <td>Business Analyst</td>\n",
       "      <td>Single</td>\n",
       "      <td>Personal</td>\n",
       "      <td>0</td>\n",
       "      <td>Income earning</td>\n",
       "    </tr>\n",
       "    <tr>\n",
       "      <th>freq</th>\n",
       "      <td>123</td>\n",
       "      <td>30</td>\n",
       "      <td>89</td>\n",
       "      <td>114</td>\n",
       "      <td>33</td>\n",
       "      <td>174</td>\n",
       "      <td>154</td>\n",
       "      <td>20</td>\n",
       "      <td>184</td>\n",
       "    </tr>\n",
       "  </tbody>\n",
       "</table>\n",
       "</div>"
      ],
      "text/plain": [
       "       Claimant Sex           Occupation Suicide Indicator Annualincome  \\\n",
       "count           188                  188               188          188   \n",
       "unique            2                   38                 3           38   \n",
       "top            Male  Business Consultant                 N            0   \n",
       "freq            123                   30                89          114   \n",
       "\n",
       "          Occupationname Maritalstatus Purposeofcover Currentannualincome  \\\n",
       "count                188           188            188                 188   \n",
       "unique                41             2              4                  97   \n",
       "top     Business Analyst        Single       Personal                   0   \n",
       "freq                  33           174            154                  20   \n",
       "\n",
       "       Incomeearningcode  \n",
       "count                188  \n",
       "unique                 4  \n",
       "top       Income earning  \n",
       "freq                 184  "
      ]
     },
     "execution_count": 12,
     "metadata": {},
     "output_type": "execute_result"
    }
   ],
   "source": [
    "x.describe(include=['O'])"
   ]
  },
  {
   "cell_type": "code",
   "execution_count": 13,
   "metadata": {
    "collapsed": false,
    "deletable": true,
    "editable": true
   },
   "outputs": [],
   "source": [
    "# x['Sum Insured']=x['Sum Insured'].apply(lambda fx: fx.replace(',', ''))\n",
    "# x['Sum Insured']=x['Sum Insured'].astype(int)"
   ]
  },
  {
   "cell_type": "code",
   "execution_count": 14,
   "metadata": {
    "collapsed": false,
    "deletable": true,
    "editable": true
   },
   "outputs": [],
   "source": [
    "s = x['Suicide Indicator']"
   ]
  },
  {
   "cell_type": "code",
   "execution_count": 15,
   "metadata": {
    "collapsed": false,
    "deletable": true,
    "editable": true
   },
   "outputs": [
    {
     "data": {
      "text/plain": [
       "'YA'"
      ]
     },
     "execution_count": 15,
     "metadata": {},
     "output_type": "execute_result"
    }
   ],
   "source": [
    "s[0] #N\n",
    "s[2] #YD\n",
    "s[184] #YA"
   ]
  },
  {
   "cell_type": "code",
   "execution_count": 16,
   "metadata": {
    "collapsed": false,
    "deletable": true,
    "editable": true
   },
   "outputs": [],
   "source": [
    "for col in x.describe(include=['O']).columns:\n",
    "    x[col] = x[col].astype('category')\n",
    "columns = x.select_dtypes(['category']).columns\n",
    "x[columns] = x[columns].apply(lambda fx: fx.cat.codes)"
   ]
  },
  {
   "cell_type": "code",
   "execution_count": 17,
   "metadata": {
    "collapsed": false,
    "deletable": true,
    "editable": true
   },
   "outputs": [
    {
     "data": {
      "text/plain": [
       "1"
      ]
     },
     "execution_count": 17,
     "metadata": {},
     "output_type": "execute_result"
    }
   ],
   "source": [
    "x['Suicide Indicator'][0] #N = 0\n",
    "x['Suicide Indicator'][2] #YD = 2\n",
    "x['Suicide Indicator'][184] #YA = 1"
   ]
  },
  {
   "cell_type": "code",
   "execution_count": 18,
   "metadata": {
    "collapsed": true,
    "deletable": true,
    "editable": true
   },
   "outputs": [],
   "source": [
    "y = x.pop('Suicide Indicator')"
   ]
  },
  {
   "cell_type": "code",
   "execution_count": 19,
   "metadata": {
    "collapsed": false,
    "deletable": true,
    "editable": true
   },
   "outputs": [
    {
     "name": "stdout",
     "output_type": "stream",
     "text": [
      "1.0\n",
      "0.9894\n"
     ]
    },
    {
     "data": {
      "image/png": "[encoded data removed]",
      "text/plain": [
       "<matplotlib.figure.Figure at 0x7f2f09c4f7f0>"
      ]
     },
     "metadata": {},
     "output_type": "display_data"
    }
   ],
   "source": [
    "## Build the model:\n",
    "model = rfc(n_estimators=2000,min_samples_split=1, min_samples_leaf=1, \n",
    "                max_features='auto', max_leaf_nodes=None, \n",
    "                oob_score=True, n_jobs=-1, random_state=1)\n",
    "model.fit(x,y)\n",
    "\n",
    "## Print scores:\n",
    "print(model.score(x,y))\n",
    "\n",
    "## Plot the feature importances:\n",
    "plt.plot(model.feature_importances_)\n",
    "\n",
    "## Print out the Out Of Bag Accuracy:\n",
    "print(\"%.4f\" % model.oob_score_)"
   ]
  },
  {
   "cell_type": "code",
   "execution_count": 20,
   "metadata": {
    "collapsed": false,
    "deletable": true,
    "editable": true
   },
   "outputs": [
    {
     "name": "stdout",
     "output_type": "stream",
     "text": [
      "1.0\n",
      "0.9947\n"
     ]
    },
    {
     "data": {
      "image/png": "[encoded data removed]",
      "text/plain": [
       "<matplotlib.figure.Figure at 0x7f2f082b10b8>"
      ]
     },
     "metadata": {},
     "output_type": "display_data"
    }
   ],
   "source": [
    "model_e = etc(n_estimators=2000, criterion='gini', max_depth=None, min_samples_split=2, \n",
    "                               min_samples_leaf=1, min_weight_fraction_leaf=0.0, max_features='auto', \n",
    "                               max_leaf_nodes=None, bootstrap=True, \n",
    "                               oob_score=True, n_jobs=-1, random_state=None, verbose=0, warm_start=False,\n",
    "                               class_weight=None)\n",
    "model_e.fit(x,y)\n",
    "\n",
    "## Print scores:\n",
    "print(model_e.score(x,y))\n",
    "\n",
    "## Plot the feature importances:\n",
    "plt.plot(model_e.feature_importances_)\n",
    "\n",
    "## Print out the Out Of Bag Accuracy:\n",
    "print(\"%.4f\" % model_e.oob_score_)"
   ]
  },
  {
   "cell_type": "code",
   "execution_count": 21,
   "metadata": {
    "collapsed": false,
    "deletable": true,
    "editable": true
   },
   "outputs": [
    {
     "data": {
      "text/plain": [
       "[<matplotlib.lines.Line2D at 0x7f2f091e2c18>,\n",
       " <matplotlib.lines.Line2D at 0x7f2f091e2dd8>,\n",
       " <matplotlib.lines.Line2D at 0x7f2f091e70b8>]"
      ]
     },
     "execution_count": 21,
     "metadata": {},
     "output_type": "execute_result"
    },
    {
     "data": {
      "image/png": "[encoded data removed]",
      "text/plain": [
       "<matplotlib.figure.Figure at 0x7f2f09c2ac50>"
      ]
     },
     "metadata": {},
     "output_type": "display_data"
    }
   ],
   "source": [
    "plt.plot(model_e.predict_proba(x))"
   ]
  },
  {
   "cell_type": "code",
   "execution_count": 22,
   "metadata": {
    "collapsed": false,
    "deletable": true,
    "editable": true
   },
   "outputs": [
    {
     "data": {
      "text/plain": [
       "array([[89,  0,  0],\n",
       "       [ 0, 57,  0],\n",
       "       [ 0,  0, 42]])"
      ]
     },
     "execution_count": 22,
     "metadata": {},
     "output_type": "execute_result"
    }
   ],
   "source": [
    "sk.metrics.confusion_matrix(y, model.predict(x))"
   ]
  },
  {
   "cell_type": "code",
   "execution_count": 23,
   "metadata": {
    "collapsed": false,
    "deletable": true,
    "editable": true
   },
   "outputs": [
    {
     "name": "stdout",
     "output_type": "stream",
     "text": [
      "Feature ranking:\n",
      "1. feature 12 (0.144270)\n",
      "2. feature 25 (0.107577)\n",
      "3. feature 1 (0.107142)\n",
      "4. feature 6 (0.082630)\n",
      "5. feature 0 (0.073455)\n",
      "6. feature 4 (0.070656)\n",
      "7. feature 11 (0.067908)\n",
      "8. feature 5 (0.045943)\n",
      "9. feature 20 (0.043577)\n",
      "10. feature 2 (0.042593)\n",
      "11. feature 26 (0.030391)\n",
      "12. feature 13 (0.030082)\n",
      "13. feature 17 (0.019518)\n",
      "14. feature 36 (0.019124)\n",
      "15. feature 22 (0.017444)\n",
      "16. feature 21 (0.015275)\n",
      "17. feature 19 (0.011688)\n",
      "18. feature 23 (0.011563)\n",
      "19. feature 35 (0.011388)\n",
      "20. feature 10 (0.011372)\n",
      "21. feature 7 (0.008798)\n",
      "22. feature 29 (0.007721)\n",
      "23. feature 3 (0.006652)\n",
      "24. feature 24 (0.003223)\n",
      "25. feature 28 (0.003060)\n",
      "26. feature 18 (0.002276)\n",
      "27. feature 39 (0.001591)\n",
      "28. feature 41 (0.001506)\n",
      "29. feature 40 (0.001328)\n",
      "30. feature 27 (0.000248)\n",
      "31. feature 38 (0.000000)\n",
      "32. feature 37 (0.000000)\n",
      "33. feature 8 (0.000000)\n",
      "34. feature 32 (0.000000)\n",
      "35. feature 9 (0.000000)\n",
      "36. feature 34 (0.000000)\n",
      "37. feature 33 (0.000000)\n",
      "38. feature 14 (0.000000)\n",
      "39. feature 15 (0.000000)\n",
      "40. feature 16 (0.000000)\n",
      "41. feature 31 (0.000000)\n",
      "42. feature 30 (0.000000)\n",
      "43. feature 42 (0.000000)\n"
     ]
    },
    {
     "data": {
      "image/png": "[encoded data removed]",
      "text/plain": [
       "<matplotlib.figure.Figure at 0x7f2f082b5898>"
      ]
     },
     "metadata": {},
     "output_type": "display_data"
    }
   ],
   "source": [
    "importances = model_e.feature_importances_\n",
    "std = np.std([tree.feature_importances_ for tree in model_e.estimators_],\n",
    "             axis=0)\n",
    "indices = np.argsort(importances)[::-1]\n",
    "\n",
    "# Print the feature ranking\n",
    "print(\"Feature ranking:\")\n",
    "\n",
    "for f in range(x.shape[1]):\n",
    "    print(\"%d. feature %d (%f)\" % (f + 1, indices[f], importances[indices[f]]))\n",
    "\n",
    "# Plot the feature importances of the forest\n",
    "plt.figure()\n",
    "plt.title(\"Feature importances\")\n",
    "plt.bar(range(x.shape[1]), importances[indices],\n",
    "       color=\"r\", yerr=std[indices], align=\"center\")\n",
    "plt.xticks(range(x.shape[1]), indices)\n",
    "plt.xlim([-1, x.shape[1]])\n",
    "plt.show()"
   ]
  },
  {
   "cell_type": "code",
   "execution_count": 24,
   "metadata": {
    "collapsed": false,
    "deletable": true,
    "editable": true
   },
   "outputs": [],
   "source": [
    "indices_use = indices"
   ]
  },
  {
   "cell_type": "code",
   "execution_count": 25,
   "metadata": {
    "collapsed": false,
    "deletable": true,
    "editable": true
   },
   "outputs": [
    {
     "name": "stdout",
     "output_type": "stream",
     "text": [
      "Occupationname\n",
      "Currentannualincome\n",
      "Occupation\n",
      "Bmi\n",
      "Claimant Sex\n",
      "Age\n",
      "Iponcontract\n",
      "Annualincome\n",
      "Purposeofcover\n",
      "Requirement Cnt\n",
      "Handoverteleuw\n",
      "Abooncontract\n",
      "Maritalstatus\n",
      "Uwstatus Id\n",
      "Replacingexistingpolicy\n",
      "Replacingexistingpolicyother\n",
      "Occupationhazardousduties\n",
      "Smokedcigarettes\n",
      "Handedoverti\n",
      "Smokerstatus\n",
      "Tobacco Qty\n",
      "Childcioncontract\n",
      "Exclusion Cnt\n",
      "Incomereduction\n",
      "Incomeearningcode\n",
      "Alcohol Status\n",
      "Industrycode\n",
      "Cioncontract\n",
      "Lifeoncontract\n",
      "Hasvolatileincome\n",
      "Morethan25Drinksweekly\n",
      "Smokedinlast12Months\n",
      "Smokedanothersubstance\n",
      "Totalliabilitiesamount\n",
      "Smokedcigarsorpipe\n",
      "Assetsandliabilitiesskipped\n",
      "Assetslessliabilitiesamount\n",
      "Businessinsuranceoption\n",
      "Disabilityplusoption\n",
      "Retirementprotectionoption\n",
      "Totalassetsamount\n",
      "Bexoncontract\n",
      "Tpdoncontract\n"
     ]
    }
   ],
   "source": [
    "for pq in indices_use:\n",
    "    print(x.columns[pq])"
   ]
  },
  {
   "cell_type": "code",
   "execution_count": 26,
   "metadata": {
    "collapsed": false,
    "deletable": true,
    "editable": true
   },
   "outputs": [],
   "source": [
    "from sklearn.feature_selection import SelectFromModel\n",
    "model_imp = SelectFromModel(model_e, prefit=True)\n",
    "feature_idx = model_imp.get_support()\n",
    "feature_name = x.columns[feature_idx]\n",
    "\n",
    "first_ten = feature_name[0:6]"
   ]
  },
  {
   "cell_type": "code",
   "execution_count": 27,
   "metadata": {
    "collapsed": true,
    "deletable": true,
    "editable": true
   },
   "outputs": [],
   "source": [
    "x_new = model_imp.transform(x)"
   ]
  },
  {
   "cell_type": "code",
   "execution_count": 28,
   "metadata": {
    "collapsed": false,
    "deletable": true,
    "editable": true
   },
   "outputs": [
    {
     "name": "stdout",
     "output_type": "stream",
     "text": [
      "1.0\n",
      "0.9947\n"
     ]
    },
    {
     "data": {
      "image/png": "[encoded data removed]",
      "text/plain": [
       "<matplotlib.figure.Figure at 0x7f2f09a2b6d8>"
      ]
     },
     "metadata": {},
     "output_type": "display_data"
    }
   ],
   "source": [
    "model_e_2 = etc(n_estimators=2000, criterion='gini', max_depth=None, min_samples_split=2, \n",
    "                               min_samples_leaf=1, min_weight_fraction_leaf=0.0, max_features='auto', \n",
    "                               max_leaf_nodes=None, bootstrap=True, \n",
    "                               oob_score=True, n_jobs=-1, random_state=None, verbose=0, warm_start=False,\n",
    "                               class_weight=None)\n",
    "model_e_2.fit(x_new,y)\n",
    "\n",
    "## Print scores:\n",
    "print(model_e_2.score(x_new,y))\n",
    "\n",
    "## Plot the feature importances:\n",
    "plt.plot(model_e_2.feature_importances_)\n",
    "\n",
    "## Print out the Out Of Bag Accuracy:\n",
    "print(\"%.4f\" % model_e_2.oob_score_)"
   ]
  },
  {
   "cell_type": "code",
   "execution_count": 29,
   "metadata": {
    "collapsed": false,
    "deletable": true,
    "editable": true
   },
   "outputs": [
    {
     "name": "stdout",
     "output_type": "stream",
     "text": [
      "Feature ranking:\n",
      "1. feature 7 (0.194496)\n",
      "2. feature 10 (0.125837)\n",
      "3. feature 1 (0.124750)\n",
      "4. feature 5 (0.095913)\n",
      "5. feature 3 (0.083347)\n",
      "6. feature 6 (0.081895)\n",
      "7. feature 0 (0.081399)\n",
      "8. feature 2 (0.059296)\n",
      "9. feature 4 (0.047237)\n",
      "10. feature 9 (0.042173)\n",
      "11. feature 11 (0.032199)\n",
      "12. feature 8 (0.031456)\n"
     ]
    },
    {
     "data": {
      "image/png": "[encoded data removed]",
      "text/plain": [
       "<matplotlib.figure.Figure at 0x7f2f08767160>"
      ]
     },
     "metadata": {},
     "output_type": "display_data"
    }
   ],
   "source": [
    "importances = model_e_2.feature_importances_\n",
    "std = np.std([tree.feature_importances_ for tree in model_e_2.estimators_],\n",
    "             axis=0)\n",
    "indices = np.argsort(importances)[::-1]\n",
    "\n",
    "# Print the feature ranking\n",
    "print(\"Feature ranking:\")\n",
    "\n",
    "for f in range(x_new.shape[1]):\n",
    "    print(\"%d. feature %d (%f)\" % (f + 1, indices[f], importances[indices[f]]))\n",
    "\n",
    "# Plot the feature importances of the forest\n",
    "plt.figure()\n",
    "plt.title(\"Feature importances\")\n",
    "plt.bar(range(x_new.shape[1]), importances[indices],\n",
    "       color=\"r\", yerr=std[indices], align=\"center\")\n",
    "plt.xticks(range(x_new.shape[1]), indices)\n",
    "plt.xlim([-1, x_new.shape[1]])\n",
    "plt.show()"
   ]
  },
  {
   "cell_type": "code",
   "execution_count": 30,
   "metadata": {
    "collapsed": false,
    "deletable": true,
    "editable": true
   },
   "outputs": [],
   "source": [
    "changed = x[first_ten]"
   ]
  },
  {
   "cell_type": "code",
   "execution_count": 31,
   "metadata": {
    "collapsed": false,
    "deletable": true,
    "editable": true
   },
   "outputs": [
    {
     "name": "stdout",
     "output_type": "stream",
     "text": [
      "1.0\n",
      "0.9734\n"
     ]
    },
    {
     "data": {
      "image/png": "[encoded data removed]",
      "text/plain": [
       "<matplotlib.figure.Figure at 0x7f2f087c4710>"
      ]
     },
     "metadata": {},
     "output_type": "display_data"
    }
   ],
   "source": [
    "model_e_3 = etc(n_estimators=2000, criterion='gini', max_depth=None, min_samples_split=2, \n",
    "                               min_samples_leaf=1, min_weight_fraction_leaf=0.0, max_features='auto', \n",
    "                               max_leaf_nodes=None, bootstrap=True, \n",
    "                               oob_score=True, n_jobs=-1, random_state=None, verbose=0, warm_start=False,\n",
    "                               class_weight=None)\n",
    "model_e_3.fit(changed,y)\n",
    "\n",
    "## Print scores:\n",
    "print(model_e_3.score(changed,y))\n",
    "\n",
    "## Plot the feature importances:\n",
    "plt.plot(model_e_3.feature_importances_)\n",
    "\n",
    "## Print out the Out Of Bag Accuracy:\n",
    "print(\"%.4f\" % model_e_3.oob_score_)"
   ]
  },
  {
   "cell_type": "code",
   "execution_count": 32,
   "metadata": {
    "collapsed": false,
    "deletable": true,
    "editable": true,
    "scrolled": true
   },
   "outputs": [
    {
     "data": {
      "text/plain": [
       "(array([ 89.,   0.,   0.,   0.,   0.,  57.,   0.,   0.,   0.,  42.]),\n",
       " array([ 0. ,  0.2,  0.4,  0.6,  0.8,  1. ,  1.2,  1.4,  1.6,  1.8,  2. ]),\n",
       " <a list of 10 Patch objects>)"
      ]
     },
     "execution_count": 32,
     "metadata": {},
     "output_type": "execute_result"
    },
    {
     "data": {
      "image/png": "[encoded data removed]",
      "text/plain": [
       "<matplotlib.figure.Figure at 0x7f2f0877c4e0>"
      ]
     },
     "metadata": {},
     "output_type": "display_data"
    }
   ],
   "source": [
    "plt.hist(y)"
   ]
  },
  {
   "cell_type": "code",
   "execution_count": 33,
   "metadata": {
    "collapsed": false,
    "deletable": true,
    "editable": true
   },
   "outputs": [
    {
     "name": "stderr",
     "output_type": "stream",
     "text": [
      "/home/daniel/.local/lib/python3.5/site-packages/ipykernel/__main__.py:1: SettingWithCopyWarning: \n",
      "A value is trying to be set on a copy of a slice from a DataFrame.\n",
      "Try using .loc[row_indexer,col_indexer] = value instead\n",
      "\n",
      "See the caveats in the documentation: http://pandas.pydata.org/pandas-docs/stable/indexing.html#indexing-view-versus-copy\n",
      "  if __name__ == '__main__':\n"
     ]
    }
   ],
   "source": [
    "changed['Suicide'] = y"
   ]
  },
  {
   "cell_type": "code",
   "execution_count": 34,
   "metadata": {
    "collapsed": false,
    "deletable": true,
    "editable": true
   },
   "outputs": [
    {
     "data": {
      "text/plain": [
       "Index(['Claimant Sex', 'Occupation', 'Requirement Cnt', 'Age', 'Annualincome',\n",
       "       'Bmi', 'Suicide'],\n",
       "      dtype='object')"
      ]
     },
     "execution_count": 34,
     "metadata": {},
     "output_type": "execute_result"
    }
   ],
   "source": [
    "changed.columns"
   ]
  },
  {
   "cell_type": "code",
   "execution_count": 35,
   "metadata": {
    "collapsed": false,
    "deletable": true,
    "editable": true
   },
   "outputs": [],
   "source": [
    "changed.columns = ['Gender', 'Occupation', 'Requirement_Cnt', 'Age', 'Annualincome',\n",
    "       'Bmi', 'Suicide']"
   ]
  },
  {
   "cell_type": "code",
   "execution_count": 36,
   "metadata": {
    "collapsed": false,
    "deletable": true,
    "editable": true
   },
   "outputs": [],
   "source": [
    "changed.to_csv(\"Subset.csv\",sep=',',index=False)"
   ]
  },
  {
   "cell_type": "code",
   "execution_count": 37,
   "metadata": {
    "collapsed": true,
    "deletable": true,
    "editable": true
   },
   "outputs": [],
   "source": [
    "x_bin = pd.read_csv(\"binary.csv\")"
   ]
  },
  {
   "cell_type": "code",
   "execution_count": 38,
   "metadata": {
    "collapsed": false,
    "deletable": true,
    "editable": true
   },
   "outputs": [],
   "source": [
    "y_bin = x_bin.pop('Suicide Indicator (group)')"
   ]
  },
  {
   "cell_type": "code",
   "execution_count": 39,
   "metadata": {
    "collapsed": false,
    "deletable": true,
    "editable": true
   },
   "outputs": [
    {
     "data": {
      "text/plain": [
       "XGBClassifier(base_score=0.5, colsample_bylevel=1, colsample_bytree=1,\n",
       "       gamma=0, learning_rate=1, max_delta_step=0, max_depth=3,\n",
       "       min_child_weight=1, missing=None, n_estimators=100, nthread=-1,\n",
       "       objective='binary:logistic', reg_alpha=0, reg_lambda=1,\n",
       "       scale_pos_weight=1, seed=0, silent=True, subsample=1)"
      ]
     },
     "execution_count": 39,
     "metadata": {},
     "output_type": "execute_result"
    }
   ],
   "source": [
    "model = xgboost.XGBClassifier(learning_rate = 1, n_estimators = 100)\n",
    "model.fit(x_bin, y_bin)"
   ]
  },
  {
   "cell_type": "code",
   "execution_count": 40,
   "metadata": {
    "collapsed": false,
    "deletable": true,
    "editable": true
   },
   "outputs": [
    {
     "name": "stdout",
     "output_type": "stream",
     "text": [
      "[ 0.02811245  0.          0.2811245   0.08032128  0.00401606  0.          0.\n",
      "  0.          0.          0.          0.54216868  0.          0.\n",
      "  0.00803213  0.          0.          0.          0.          0.          0.\n",
      "  0.          0.00401606  0.          0.          0.          0.          0.\n",
      "  0.          0.          0.          0.          0.          0.          0.\n",
      "  0.01606426  0.          0.          0.          0.          0.          0.\n",
      "  0.          0.          0.          0.          0.00803213  0.\n",
      "  0.00401606  0.          0.          0.          0.          0.          0.\n",
      "  0.          0.          0.          0.          0.          0.          0.\n",
      "  0.          0.02409638  0.        ]\n"
     ]
    },
    {
     "data": {
      "text/plain": [
       "<matplotlib.axes._subplots.AxesSubplot at 0x7f2f08931da0>"
      ]
     },
     "execution_count": 40,
     "metadata": {},
     "output_type": "execute_result"
    },
    {
     "data": {
      "image/png": "[encoded data removed]",
      "text/plain": [
       "<matplotlib.figure.Figure at 0x7f2f08931a20>"
      ]
     },
     "metadata": {},
     "output_type": "display_data"
    }
   ],
   "source": [
    "print(model.feature_importances_)\n",
    "\n",
    "xgboost.plot_importance(model)"
   ]
  },
  {
   "cell_type": "code",
   "execution_count": 41,
   "metadata": {
    "collapsed": false,
    "deletable": true,
    "editable": true
   },
   "outputs": [
    {
     "name": "stdout",
     "output_type": "stream",
     "text": [
      "[ 0.          0.1858108   0.          0.          0.19594595  0.01689189\n",
      "  0.06418919  0.00337838  0.          0.          0.          0.05405406\n",
      "  0.24662162  0.          0.          0.          0.          0.          0.\n",
      "  0.00337838  0.01351351  0.          0.          0.          0.\n",
      "  0.20945945  0.          0.          0.          0.          0.          0.\n",
      "  0.          0.          0.          0.          0.00675676  0.          0.\n",
      "  0.          0.          0.          0.        ]\n"
     ]
    },
    {
     "data": {
      "text/plain": [
       "<matplotlib.axes._subplots.AxesSubplot at 0x7f2f08726cc0>"
      ]
     },
     "execution_count": 41,
     "metadata": {},
     "output_type": "execute_result"
    },
    {
     "data": {
      "image/png": "[encoded data removed]",
      "text/plain": [
       "<matplotlib.figure.Figure at 0x7f2f09a85fd0>"
      ]
     },
     "metadata": {},
     "output_type": "display_data"
    }
   ],
   "source": [
    "model = xgboost.XGBClassifier(learning_rate = 1, n_estimators = 100)\n",
    "model.fit(x, y)\n",
    "\n",
    "print(model.feature_importances_)\n",
    "\n",
    "xgboost.plot_importance(model)"
   ]
  },
  {
   "cell_type": "code",
   "execution_count": 42,
   "metadata": {
    "collapsed": false,
    "deletable": true,
    "editable": true
   },
   "outputs": [],
   "source": [
    "# before_data = x\n",
    "# before_data['Suicide'] = y"
   ]
  },
  {
   "cell_type": "code",
   "execution_count": 43,
   "metadata": {
    "collapsed": false,
    "deletable": true,
    "editable": true
   },
   "outputs": [
    {
     "data": {
      "text/plain": [
       "0       0\n",
       "1       0\n",
       "2      23\n",
       "3      23\n",
       "4      23\n",
       "5      14\n",
       "6      25\n",
       "7      25\n",
       "8       0\n",
       "9       0\n",
       "10      0\n",
       "11     16\n",
       "12     16\n",
       "13     16\n",
       "14     31\n",
       "15     13\n",
       "16     13\n",
       "17      0\n",
       "18      0\n",
       "19      0\n",
       "20      0\n",
       "21      0\n",
       "22      0\n",
       "23      0\n",
       "24     19\n",
       "25      3\n",
       "26      3\n",
       "27      3\n",
       "28     34\n",
       "29     18\n",
       "       ..\n",
       "158     6\n",
       "159    10\n",
       "160    11\n",
       "161    11\n",
       "162    11\n",
       "163    11\n",
       "164    11\n",
       "165    11\n",
       "166    11\n",
       "167    11\n",
       "168    11\n",
       "169    30\n",
       "170    27\n",
       "171    27\n",
       "172    27\n",
       "173    27\n",
       "174    27\n",
       "175    27\n",
       "176    21\n",
       "177    21\n",
       "178    21\n",
       "179    21\n",
       "180    21\n",
       "181    21\n",
       "182    21\n",
       "183    21\n",
       "184    21\n",
       "185     5\n",
       "186    15\n",
       "187    15\n",
       "Name: Occupation, dtype: int8"
      ]
     },
     "execution_count": 43,
     "metadata": {},
     "output_type": "execute_result"
    }
   ],
   "source": [
    "x.pop('Occupation')"
   ]
  },
  {
   "cell_type": "code",
   "execution_count": 44,
   "metadata": {
    "collapsed": true,
    "deletable": true,
    "editable": true
   },
   "outputs": [],
   "source": [
    "# before_data.to_csv(\"Before.csv\",sep=',',index=False)"
   ]
  },
  {
   "cell_type": "code",
   "execution_count": 45,
   "metadata": {
    "collapsed": false,
    "deletable": true,
    "editable": true
   },
   "outputs": [],
   "source": [
    "validate = pd.read_csv(\"validation.csv\")"
   ]
  },
  {
   "cell_type": "code",
   "execution_count": 46,
   "metadata": {
    "collapsed": false,
    "deletable": true,
    "editable": true
   },
   "outputs": [
    {
     "data": {
      "text/plain": [
       "Index(['Life Key Anon',\n",
       "       'MAX((Commencement Date Anon))-MIN((Commencement Date Anon))',\n",
       "       'Requirement Cnt', 'Exclusion Cnt', 'Age', 'Annualincome', 'Bmi',\n",
       "       'Tobacco Qty', 'Smokedanothersubstance', 'Smokedcigarsorpipe',\n",
       "       'Smokerstatus', 'Iponcontract', 'Occupationname', 'Abooncontract',\n",
       "       'Businessinsuranceoption', 'Disabilityplusoption',\n",
       "       'Retirementprotectionoption', 'Maritalstatus', 'Alcohol Status',\n",
       "       'Occupationhazardousduties', 'Purposeofcover',\n",
       "       'Replacingexistingpolicyother', 'Replacingexistingpolicy',\n",
       "       'Smokedcigarettes', 'Incomereduction', 'Currentannualincome',\n",
       "       'Handoverteleuw', 'Hasvolatileincome', 'Incomeearningcode',\n",
       "       'Childcioncontract', 'Bexoncontract', 'Totalassetsamount',\n",
       "       'Totalliabilitiesamount', 'Assetslessliabilitiesamount',\n",
       "       'Assetsandliabilitiesskipped', 'Handedoverti', 'Uwstatus Id',\n",
       "       'Smokedinlast12Months', 'Morethan25Drinksweekly', 'Industrycode',\n",
       "       'Lifeoncontract', 'Cioncontract', 'Tpdoncontract', 'Gender Text',\n",
       "       'Life Key Anon1', 'Dob Anon', 'Policy Key Anon',\n",
       "       'Commencement Date Anon', 'Unnamed: 48', 'Unnamed: 49', 'Unnamed: 50',\n",
       "       'Unnamed: 51', 'Unnamed: 52', 'Unnamed: 53', 'Unnamed: 54',\n",
       "       'Unnamed: 55', 'Unnamed: 56', 'Unnamed: 57', 'Unnamed: 58',\n",
       "       'Unnamed: 59', 'Unnamed: 60', 'Unnamed: 61', 'Unnamed: 62',\n",
       "       'Unnamed: 63', 'Unnamed: 64', 'Unnamed: 65', 'Unnamed: 66',\n",
       "       'Unnamed: 67', 'Unnamed: 68', 'Unnamed: 69', 'Unnamed: 70',\n",
       "       'Unnamed: 71', 'Unnamed: 72', 'Unnamed: 73', 'Unnamed: 74',\n",
       "       'Unnamed: 75', 'Unnamed: 76', 'Unnamed: 77', 'Unnamed: 78',\n",
       "       'Unnamed: 79', 'Unnamed: 80', 'Unnamed: 81', 'Unnamed: 82',\n",
       "       'Unnamed: 83', 'Unnamed: 84', 'Unnamed: 85', 'Unnamed: 86',\n",
       "       'Unnamed: 87', 'Unnamed: 88', 'Unnamed: 89', 'Unnamed: 90',\n",
       "       'Unnamed: 91', 'Unnamed: 92'],\n",
       "      dtype='object')"
      ]
     },
     "execution_count": 46,
     "metadata": {},
     "output_type": "execute_result"
    }
   ],
   "source": [
    "validate.columns"
   ]
  },
  {
   "cell_type": "code",
   "execution_count": 47,
   "metadata": {
    "collapsed": false,
    "deletable": true,
    "editable": true
   },
   "outputs": [
    {
     "name": "stderr",
     "output_type": "stream",
     "text": [
      "/home/daniel/.local/lib/python3.5/site-packages/ipykernel/__main__.py:1: FutureWarning: using '-' to provide set differences with Indexes is deprecated, use .difference()\n",
      "  if __name__ == '__main__':\n"
     ]
    }
   ],
   "source": [
    "all_v = validate[validate.columns-validate.columns[44:-1]]"
   ]
  },
  {
   "cell_type": "code",
   "execution_count": 48,
   "metadata": {
    "collapsed": false,
    "deletable": true,
    "editable": true
   },
   "outputs": [
    {
     "data": {
      "text/plain": [
       "0     NaN\n",
       "1     NaN\n",
       "2     NaN\n",
       "3     NaN\n",
       "4     NaN\n",
       "5     NaN\n",
       "6     NaN\n",
       "7     NaN\n",
       "8     NaN\n",
       "9     NaN\n",
       "10    NaN\n",
       "11    NaN\n",
       "12    NaN\n",
       "13    NaN\n",
       "14    NaN\n",
       "15    NaN\n",
       "16    NaN\n",
       "17    NaN\n",
       "18    NaN\n",
       "19    NaN\n",
       "20    NaN\n",
       "21    NaN\n",
       "22    NaN\n",
       "23    NaN\n",
       "24    NaN\n",
       "25    NaN\n",
       "26    NaN\n",
       "27    NaN\n",
       "28    NaN\n",
       "29    NaN\n",
       "       ..\n",
       "489   NaN\n",
       "490   NaN\n",
       "491   NaN\n",
       "492   NaN\n",
       "493   NaN\n",
       "494   NaN\n",
       "495   NaN\n",
       "496   NaN\n",
       "497   NaN\n",
       "498   NaN\n",
       "499   NaN\n",
       "500   NaN\n",
       "501   NaN\n",
       "502   NaN\n",
       "503   NaN\n",
       "504   NaN\n",
       "505   NaN\n",
       "506   NaN\n",
       "507   NaN\n",
       "508   NaN\n",
       "509   NaN\n",
       "510   NaN\n",
       "511   NaN\n",
       "512   NaN\n",
       "513   NaN\n",
       "514   NaN\n",
       "515   NaN\n",
       "516   NaN\n",
       "517   NaN\n",
       "518   NaN\n",
       "Name: Unnamed: 92, dtype: float64"
      ]
     },
     "execution_count": 48,
     "metadata": {},
     "output_type": "execute_result"
    }
   ],
   "source": [
    "all_v.pop('Unnamed: 92')"
   ]
  },
  {
   "cell_type": "code",
   "execution_count": 49,
   "metadata": {
    "collapsed": true,
    "deletable": true,
    "editable": true
   },
   "outputs": [],
   "source": [
    "tal = pd.read_csv(\"tal.csv\")"
   ]
  },
  {
   "cell_type": "code",
   "execution_count": 50,
   "metadata": {
    "collapsed": false,
    "deletable": true,
    "editable": true
   },
   "outputs": [],
   "source": [
    "part_1 = tal[['Gender Text', 'Requirement Cnt', 'Exclusion Cnt', 'Age',\n",
    "       'Annualincome', 'Bmi', 'Tobacco Qty', 'Smokedanothersubstance',\n",
    "       'Smokedcigarsorpipe', 'Smokerstatus', 'Iponcontract', 'Occupationname',\n",
    "       'Abooncontract', 'Businessinsuranceoption', 'Disabilityplusoption',\n",
    "       'Retirementprotectionoption', 'Maritalstatus', 'Alcohol Status',\n",
    "       'Occupationhazardousduties', 'Purposeofcover',\n",
    "       'Replacingexistingpolicyother', 'Replacingexistingpolicy',\n",
    "       'Smokedcigarettes', 'Incomereduction', 'Currentannualincome',\n",
    "       'Handoverteleuw', 'Hasvolatileincome', 'Incomeearningcode',\n",
    "       'Childcioncontract', 'Bexoncontract', 'Totalassetsamount',\n",
    "       'Totalliabilitiesamount', 'Assetslessliabilitiesamount',\n",
    "       'Assetsandliabilitiesskipped', 'Handedoverti', 'Uwstatus Id',\n",
    "       'Smokedinlast12Months', 'Morethan25Drinksweekly', 'Industrycode',\n",
    "       'Lifeoncontract', 'Cioncontract', 'Tpdoncontract']]"
   ]
  },
  {
   "cell_type": "code",
   "execution_count": 51,
   "metadata": {
    "collapsed": false,
    "deletable": true,
    "editable": true
   },
   "outputs": [],
   "source": [
    "part_2 = all_v[['Gender Text', 'Requirement Cnt', 'Exclusion Cnt', 'Age',\n",
    "       'Annualincome', 'Bmi', 'Tobacco Qty', 'Smokedanothersubstance',\n",
    "       'Smokedcigarsorpipe', 'Smokerstatus', 'Iponcontract', 'Occupationname',\n",
    "       'Abooncontract', 'Businessinsuranceoption', 'Disabilityplusoption',\n",
    "       'Retirementprotectionoption', 'Maritalstatus', 'Alcohol Status',\n",
    "       'Occupationhazardousduties', 'Purposeofcover',\n",
    "       'Replacingexistingpolicyother', 'Replacingexistingpolicy',\n",
    "       'Smokedcigarettes', 'Incomereduction', 'Currentannualincome',\n",
    "       'Handoverteleuw', 'Hasvolatileincome', 'Incomeearningcode',\n",
    "       'Childcioncontract', 'Bexoncontract', 'Totalassetsamount',\n",
    "       'Totalliabilitiesamount', 'Assetslessliabilitiesamount',\n",
    "       'Assetsandliabilitiesskipped', 'Handedoverti', 'Uwstatus Id',\n",
    "       'Smokedinlast12Months', 'Morethan25Drinksweekly', 'Industrycode',\n",
    "       'Lifeoncontract', 'Cioncontract', 'Tpdoncontract']]"
   ]
  },
  {
   "cell_type": "code",
   "execution_count": 52,
   "metadata": {
    "collapsed": false,
    "deletable": true,
    "editable": true
   },
   "outputs": [],
   "source": [
    "part_all = pd.concat([part_1,part_2])"
   ]
  },
  {
   "cell_type": "code",
   "execution_count": 53,
   "metadata": {
    "collapsed": false,
    "deletable": true,
    "editable": true
   },
   "outputs": [
    {
     "data": {
      "text/plain": [
       "Index(['Gender Text', 'Annualincome', 'Smokerstatus', 'Iponcontract',\n",
       "       'Occupationname', 'Abooncontract', 'Maritalstatus',\n",
       "       'Occupationhazardousduties', 'Purposeofcover', 'Currentannualincome',\n",
       "       'Incomeearningcode', 'Totalassetsamount', 'Totalliabilitiesamount',\n",
       "       'Assetslessliabilitiesamount'],\n",
       "      dtype='object')"
      ]
     },
     "execution_count": 53,
     "metadata": {},
     "output_type": "execute_result"
    }
   ],
   "source": [
    "part_all.describe(include=['O']).columns"
   ]
  },
  {
   "cell_type": "code",
   "execution_count": 54,
   "metadata": {
    "collapsed": false,
    "deletable": true,
    "editable": true
   },
   "outputs": [
    {
     "name": "stdout",
     "output_type": "stream",
     "text": [
      "Gender Text\n",
      "Annualincome\n",
      "Smokerstatus\n",
      "Iponcontract\n",
      "Occupationname\n",
      "Abooncontract\n",
      "Maritalstatus\n",
      "Occupationhazardousduties\n",
      "Purposeofcover\n",
      "Currentannualincome\n",
      "Incomeearningcode\n",
      "Totalassetsamount\n",
      "Totalliabilitiesamount\n",
      "Assetslessliabilitiesamount\n"
     ]
    }
   ],
   "source": [
    "for col in part_all.describe(include=['O']).columns:\n",
    "    print(col)\n",
    "    part_all[col] = part_all[col].astype('category')\n",
    "    \n",
    "columns = part_all.select_dtypes(['category']).columns\n",
    "part_all[columns] = part_all[columns].apply(lambda fx: fx.cat.codes)"
   ]
  },
  {
   "cell_type": "code",
   "execution_count": 55,
   "metadata": {
    "collapsed": false,
    "deletable": true,
    "editable": true
   },
   "outputs": [],
   "source": [
    "train = part_all[0:188]\n",
    "test = part_all[188:-1]"
   ]
  },
  {
   "cell_type": "code",
   "execution_count": 56,
   "metadata": {
    "collapsed": false,
    "deletable": true,
    "editable": true
   },
   "outputs": [
    {
     "name": "stdout",
     "output_type": "stream",
     "text": [
      "[ 0.          0.00288184  0.          0.19596542  0.0259366   0.12103746\n",
      "  0.          0.          0.          0.          0.04610951  0.27377522\n",
      "  0.          0.          0.          0.          0.00288184  0.\n",
      "  0.00288184  0.00576369  0.00288184  0.          0.          0.\n",
      "  0.31700289  0.          0.          0.          0.          0.          0.\n",
      "  0.          0.          0.          0.          0.00288184  0.          0.\n",
      "  0.          0.          0.          0.        ]\n"
     ]
    },
    {
     "data": {
      "text/plain": [
       "<matplotlib.axes._subplots.AxesSubplot at 0x7f2f089ce0b8>"
      ]
     },
     "execution_count": 56,
     "metadata": {},
     "output_type": "execute_result"
    },
    {
     "data": {
      "image/png": "[encoded data removed]",
      "text/plain": [
       "<matplotlib.figure.Figure at 0x7f2f089a5588>"
      ]
     },
     "metadata": {},
     "output_type": "display_data"
    }
   ],
   "source": [
    "model_tog = xgboost.XGBClassifier(learning_rate = 1, n_estimators = 100)\n",
    "model_tog.fit(train, y)\n",
    "\n",
    "print(model_tog.feature_importances_)\n",
    "\n",
    "xgboost.plot_importance(model_tog)"
   ]
  },
  {
   "cell_type": "code",
   "execution_count": 57,
   "metadata": {
    "collapsed": false,
    "deletable": true,
    "editable": true
   },
   "outputs": [
    {
     "data": {
      "text/plain": [
       "0.81081081081081086"
      ]
     },
     "execution_count": 57,
     "metadata": {},
     "output_type": "execute_result"
    }
   ],
   "source": [
    "sum(model_tog.predict(test)==0)/len(test)"
   ]
  },
  {
   "cell_type": "code",
   "execution_count": 70,
   "metadata": {
    "collapsed": false,
    "deletable": true,
    "editable": true
   },
   "outputs": [
    {
     "data": {
      "text/plain": [
       "<matplotlib.axes._subplots.AxesSubplot at 0x7f2f08190908>"
      ]
     },
     "execution_count": 70,
     "metadata": {},
     "output_type": "execute_result"
    },
    {
     "data": {
      "image/png": "[encoded data removed]",
      "text/plain": [
       "<matplotlib.figure.Figure at 0x7f2f08214da0>"
      ]
     },
     "metadata": {},
     "output_type": "display_data"
    }
   ],
   "source": []
  },
  {
   "cell_type": "code",
   "execution_count": 75,
   "metadata": {
    "collapsed": false
   },
   "outputs": [
    {
     "data": {
      "image/png": "[encoded data removed]",
      "text/plain": [
       "<matplotlib.figure.Figure at 0x7f2efb85e048>"
      ]
     },
     "metadata": {},
     "output_type": "display_data"
    }
   ],
   "source": [
    "xgboost.plot_tree(model_tog)\n",
    "fig = plt.gcf()\n",
    "fig.set_size_inches(10, 10)\n",
    "fig.savefig('diag.png')"
   ]
  }
 ],
 "metadata": {
  "kernelspec": {
   "display_name": "Python 3",
   "language": "python",
   "name": "python3"
  },
  "language_info": {
   "codemirror_mode": {
    "name": "ipython",
    "version": 3
   },
   "file_extension": ".py",
   "mimetype": "text/x-python",
   "name": "python",
   "nbconvert_exporter": "python",
   "pygments_lexer": "ipython3",
   "version": "3.5.2"
  }
 },
 "nbformat": 4,
 "nbformat_minor": 2
}
